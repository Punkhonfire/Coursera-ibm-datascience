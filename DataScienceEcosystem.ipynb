{
 "cells": [
  {
   "cell_type": "markdown",
   "id": "026b3d4c-d730-49fc-bc03-75d5bdd4b44b",
   "metadata": {},
   "source": [
    "# Data Science Tools and Ecosystem"
   ]
  },
  {
   "cell_type": "markdown",
   "id": "fe9a810f-ce98-4074-b177-ff6fc3f9c253",
   "metadata": {},
   "source": [
    "In this Notebook Data Science tools and Ecosystems are summarised. Notebooks are very helpful in Data Science and is used by almost everybody."
   ]
  },
  {
   "cell_type": "markdown",
   "id": "ccbd20b7-1add-4be6-bd72-195c03ab5a8b",
   "metadata": {},
   "source": [
    "Some of the most popular languages that Data Scientists use are :\n",
    "1. Python\n",
    "2. R\n",
    "3. Java"
   ]
  },
  {
   "cell_type": "markdown",
   "id": "87f2c2a8-6875-4247-a1b7-35097a3da3fd",
   "metadata": {},
   "source": [
    "Some of the commonly used libraries used by Data Scientists include:\n",
    "1. Matplotlib (Python)\n",
    "2. NumPy\n",
    "3. SciPy"
   ]
  },
  {
   "cell_type": "markdown",
   "id": "35047ba7-c643-4320-adea-0a871127751a",
   "metadata": {},
   "source": [
    "| Data Science Tools          |\n",
    "|-----------------------------|\n",
    "| Jupyter Notebook            |\n",
    "| RStudio                     |\n",
    "| Visual Studio Code (VS Code)|\n"
   ]
  },
  {
   "cell_type": "markdown",
   "id": "1f9bf318-a18d-4854-89d5-313656eebf90",
   "metadata": {},
   "source": [
    "### Below are a few examples of evaluating arithmetic expressions in Python.\n"
   ]
  },
  {
   "cell_type": "code",
   "execution_count": 2,
   "id": "45b9d0a0-a6b6-4d48-985b-c7b5445791e1",
   "metadata": {},
   "outputs": [
    {
     "data": {
      "text/plain": [
       "17"
      ]
     },
     "execution_count": 2,
     "metadata": {},
     "output_type": "execute_result"
    }
   ],
   "source": [
    "# This is a simple arithmetic expression to multiply then add integers\n",
    "(3 * 4) + 5"
   ]
  },
  {
   "cell_type": "code",
   "execution_count": 3,
   "id": "1565a64c-8642-4de6-a045-7c96cd41bab4",
   "metadata": {},
   "outputs": [
    {
     "data": {
      "text/plain": [
       "3.3333333333333335"
      ]
     },
     "execution_count": 3,
     "metadata": {},
     "output_type": "execute_result"
    }
   ],
   "source": [
    "# This will convert 200 minutes to hours by dividing by 60\n",
    "200 / 60"
   ]
  },
  {
   "cell_type": "markdown",
   "id": "d507bd17-7e1f-489d-9756-20fbb53de38f",
   "metadata": {},
   "source": [
    "**Objectives:**\n",
    "\n",
    "- List popular languages for Data Science  \n",
    "- Identify commonly used tools in Data Science  \n",
    "- Demonstrate basic arithmetic expressions in Python  \n",
    "- Convert time units using Python expressions  \n",
    "- Understand the structure of Jupyter Notebooks  \n"
   ]
  },
  {
   "cell_type": "markdown",
   "id": "9a056c40-bff8-43b4-825a-ca850e9e8749",
   "metadata": {},
   "source": [
    "## Author\n",
    "Siddhant Singh"
   ]
  },
  {
   "cell_type": "code",
   "execution_count": null,
   "id": "4899fd6e-c86e-4630-b26e-26145f7c16f1",
   "metadata": {},
   "outputs": [],
   "source": []
  }
 ],
 "metadata": {
  "kernelspec": {
   "display_name": "Python 3 (ipykernel)",
   "language": "python",
   "name": "python3"
  },
  "language_info": {
   "codemirror_mode": {
    "name": "ipython",
    "version": 3
   },
   "file_extension": ".py",
   "mimetype": "text/x-python",
   "name": "python",
   "nbconvert_exporter": "python",
   "pygments_lexer": "ipython3",
   "version": "3.12.8"
  }
 },
 "nbformat": 4,
 "nbformat_minor": 5
}
